{
 "cells": [
  {
   "cell_type": "code",
   "execution_count": 7,
   "metadata": {},
   "outputs": [],
   "source": [
    "import pickle, re"
   ]
  },
  {
   "cell_type": "code",
   "execution_count": 20,
   "metadata": {},
   "outputs": [],
   "source": [
    "vec = pickle.load(open(\"pickle/vectorizer.pk\", \"rb\"))\n",
    "text_class = pickle.load(open(\"pickle/text_classifier.pk\", \"rb\"))"
   ]
  },
  {
   "cell_type": "code",
   "execution_count": 13,
   "metadata": {},
   "outputs": [],
   "source": [
    "def feaure_selection(features,vec):\n",
    "    print('original review =', features)\n",
    "    processed_features = []\n",
    "    for sentence in range(0, len(features)):\n",
    "        processed_feature = re.sub(r'\\W', ' ', str(features[sentence])) #special character removal\n",
    "        processed_feature= re.sub(r'\\s+[a-zA-Z]\\s+', ' ', processed_feature) #single charracter\n",
    "        processed_feature = re.sub(r'\\s+', ' ', processed_feature, flags=re.I) #multi space issues handled\n",
    "        processed_feature = re.sub(r'^b\\s+', '', processed_feature) #removing prefix b\n",
    "\n",
    "        # Converting to Lowercase\n",
    "        processed_feature = processed_feature.lower()\n",
    "\n",
    "        processed_features.append(processed_feature)\n",
    "    # vectorize features\n",
    "    print('Cleaned review', processed_features)\n",
    "    processed_features= vec.transform(processed_features).toarray()\n",
    "#     print(processed_features)\n",
    "    return processed_features"
   ]
  },
  {
   "cell_type": "code",
   "execution_count": 17,
   "metadata": {},
   "outputs": [],
   "source": [
    "def predict_sentiment(new_review):\n",
    "    new_features = feaure_selection([new_review],vec)\n",
    "    sentiment = text_class.predict(new_features)\n",
    "    print('it is a', sentiment[0], 'review')"
   ]
  },
  {
   "cell_type": "code",
   "execution_count": 18,
   "metadata": {},
   "outputs": [],
   "source": [
    "new_review = 'It was a terrible. I did not like I it I meow I it'"
   ]
  },
  {
   "cell_type": "code",
   "execution_count": 19,
   "metadata": {},
   "outputs": [
    {
     "name": "stdout",
     "output_type": "stream",
     "text": [
      "original review = ['It was a terrible. I did not like I it I meow I it']\n",
      "Cleaned review ['it was terrible did not like it meow it']\n",
      "it is a negative review\n"
     ]
    }
   ],
   "source": [
    "predict_sentiment(new_review)"
   ]
  }
 ],
 "metadata": {
  "kernelspec": {
   "display_name": "Python 3",
   "language": "python",
   "name": "python3"
  },
  "language_info": {
   "codemirror_mode": {
    "name": "ipython",
    "version": 3
   },
   "file_extension": ".py",
   "mimetype": "text/x-python",
   "name": "python",
   "nbconvert_exporter": "python",
   "pygments_lexer": "ipython3",
   "version": "3.6.9"
  }
 },
 "nbformat": 4,
 "nbformat_minor": 2
}
